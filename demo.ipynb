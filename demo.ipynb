{
 "cells": [
  {
   "cell_type": "markdown",
   "metadata": {},
   "source": [
    "A cute little demo showing the simplest usage of babyBERT. "
   ]
  },
  {
   "cell_type": "code",
   "execution_count": 1,
   "metadata": {},
   "outputs": [],
   "source": [
    "import torch\n",
    "from torch.utils.data import Dataset\n",
    "from torch.utils.data.dataloader import DataLoader\n",
    "from babygpt.utils import set_seed\n",
    "import numpy as np\n",
    "set_seed(3407)"
   ]
  },
  {
   "cell_type": "code",
   "execution_count": 2,
   "metadata": {},
   "outputs": [],
   "source": [
    "import pickle\n",
    "\n",
    "class OrderedRepeatingDataset(Dataset):\n",
    "    \"\"\" \n",
    "    Dataset for the masked-language-modeling problem. E.g. for problem of length 10 with 3 characters (0,1,2), and 3 as a masking token:\n",
    "    The data always contains the tokens in increasing order, and then repeats. \n",
    "    Some tokens as masked using a special token that isn't part of the vocab. \n",
    "    Input: '1201201301' -> Output: '1201201201'\n",
    "    \"\"\"\n",
    "\n",
    "    def __init__(self, split, length=6, num_chars = 3, p_mask = 0.2):\n",
    "        assert split in {'train', 'test'}\n",
    "        self.split = split\n",
    "        self.length = length\n",
    "        self.num_chars = num_chars\n",
    "        self.p_mask = p_mask\n",
    "    \n",
    "    def __len__(self):\n",
    "        return 10000 # ...\n",
    "    \n",
    "    def get_vocab_size(self):\n",
    "        return self.num_chars\n",
    "    \n",
    "    def get_block_size(self):\n",
    "        # the length of the sequence that will feed into transformer, \n",
    "        # containing concatenated input and the output, but -1 because\n",
    "        # the transformer starts making predictions at the last input element\n",
    "        return self.length\n",
    "\n",
    "    def toy_language_model(self):\n",
    "        # generate a tensor of size self.length, using num_chars, following a simple correlation structure\n",
    "        # the output is the first self.length elements a randomly rotated version of {0, 1, 2, .., n-1, 0, 1, 2..., n-1, 0, 1...}\n",
    "        x = torch.cat([torch.arange(0, self.num_chars)]*(int(np.ceil((self.num_chars + self.length)/self.num_chars))))\n",
    "        start_ind = int(np.random.random() * self.num_chars)\n",
    "        return x[start_ind : start_ind+self.length]\n",
    "        \n",
    "    def __getitem__(self, idx):\n",
    "        # generate some random characters as per \n",
    "        inp = self.toy_language_model()\n",
    "        mask_rands = torch.rand(size=(self.length,)) \n",
    "        mask = mask_rands < self.p_mask\n",
    "        mask_token = self.num_chars \n",
    "        inp_masked = mask.long() * mask_token + (1 - mask.long()) * inp\n",
    "        \n",
    "        # solve the task: MLM\n",
    "        sol = inp.clone()\n",
    "        \n",
    "        return inp_masked, sol, mask"
   ]
  },
  {
   "cell_type": "code",
   "execution_count": 3,
   "metadata": {},
   "outputs": [
    {
     "name": "stdout",
     "output_type": "stream",
     "text": [
      "x y z\n",
      "-----\n",
      "1 1 0\n",
      "2 2 0\n",
      "3 0 1\n",
      "1 1 0\n",
      "2 2 0\n",
      "0 0 0\n",
      "1 1 0\n",
      "2 2 0\n",
      "0 0 0\n",
      "1 1 0\n"
     ]
    }
   ],
   "source": [
    "# print an example instance of the dataset\n",
    "train_dataset = OrderedRepeatingDataset('train', length = 10, p_mask = 0.2)\n",
    "test_dataset = OrderedRepeatingDataset('test', length = 10, p_mask = 0.2)\n",
    "x, y, z = train_dataset[0]\n",
    "print('x','y','z')\n",
    "print('-----')\n",
    "for a, b, c in zip(x,y,z):\n",
    "    print(int(a),int(b), int(c))"
   ]
  },
  {
   "cell_type": "code",
   "execution_count": 4,
   "metadata": {},
   "outputs": [
    {
     "data": {
      "text/plain": [
       "(10000, 10000)"
      ]
     },
     "execution_count": 4,
     "metadata": {},
     "output_type": "execute_result"
    }
   ],
   "source": [
    "len(train_dataset), len(test_dataset)"
   ]
  },
  {
   "cell_type": "code",
   "execution_count": 6,
   "metadata": {},
   "outputs": [
    {
     "name": "stderr",
     "output_type": "stream",
     "text": [
      "/home/suhas/.local/lib/python3.10/site-packages/torch/nn/modules/transformer.py:286: UserWarning: enable_nested_tensor is True, but self.use_nested_tensor is False because encoder_layer.self_attn.num_heads is odd\n",
      "  warnings.warn(f\"enable_nested_tensor is True, but self.use_nested_tensor is False because {why_not_sparsity_fast_path}\")\n"
     ]
    }
   ],
   "source": [
    "# create a babyBERT instance\n",
    "from babygpt.model import BERT\n",
    "model = BERT(d_embed = 12, n_head = 3, num_layers = 3,  vocab_size = 3, seq_length = 10)"
   ]
  },
  {
   "cell_type": "code",
   "execution_count": 7,
   "metadata": {},
   "outputs": [
    {
     "name": "stdout",
     "output_type": "stream",
     "text": [
      "running on device cpu\n"
     ]
    }
   ],
   "source": [
    "# create a Trainer object\n",
    "from babygpt.trainer import Trainer\n",
    "\n",
    "train_config = Trainer.get_default_config()\n",
    "train_config.learning_rate = 5e-4 # the model we're using is so small that we can go a bit faster\n",
    "train_config.max_iters = 2000\n",
    "train_config.num_workers = 0\n",
    "trainer = Trainer(train_config, model, train_dataset)"
   ]
  },
  {
   "cell_type": "code",
   "execution_count": 8,
   "metadata": {},
   "outputs": [
    {
     "name": "stdout",
     "output_type": "stream",
     "text": [
      "iter_dt 0.00ms; iter 0: train loss 1.29930\n",
      "iter_dt 15.54ms; iter 100: train loss 0.26024\n",
      "iter_dt 14.94ms; iter 200: train loss 0.01060\n",
      "iter_dt 14.27ms; iter 300: train loss 0.02419\n",
      "iter_dt 15.12ms; iter 400: train loss 0.00292\n",
      "iter_dt 16.96ms; iter 500: train loss 0.00198\n",
      "iter_dt 15.04ms; iter 600: train loss 0.00185\n",
      "iter_dt 14.78ms; iter 700: train loss 0.00096\n",
      "iter_dt 14.94ms; iter 800: train loss 0.00081\n",
      "iter_dt 15.09ms; iter 900: train loss 0.00065\n",
      "iter_dt 19.01ms; iter 1000: train loss 0.00059\n",
      "iter_dt 14.92ms; iter 1100: train loss 0.00049\n",
      "iter_dt 14.73ms; iter 1200: train loss 0.00050\n",
      "iter_dt 14.35ms; iter 1300: train loss 0.00038\n",
      "iter_dt 15.76ms; iter 1400: train loss 0.00030\n",
      "iter_dt 17.06ms; iter 1500: train loss 0.00026\n",
      "iter_dt 17.36ms; iter 1600: train loss 0.00027\n",
      "iter_dt 15.58ms; iter 1700: train loss 0.00027\n",
      "iter_dt 15.51ms; iter 1800: train loss 0.00036\n",
      "iter_dt 15.26ms; iter 1900: train loss 0.00020\n"
     ]
    }
   ],
   "source": [
    "def batch_end_callback(trainer):\n",
    "    if trainer.iter_num % 100 == 0:\n",
    "        print(f\"iter_dt {trainer.iter_dt * 1000:.2f}ms; iter {trainer.iter_num}: train loss {trainer.loss.item():.5f}\")\n",
    "trainer.set_callback('on_batch_end', batch_end_callback)\n",
    "trainer.run()"
   ]
  },
  {
   "cell_type": "code",
   "execution_count": 9,
   "metadata": {},
   "outputs": [],
   "source": [
    "# now let's perform some evaluation\n",
    "model.eval();"
   ]
  },
  {
   "cell_type": "code",
   "execution_count": 10,
   "metadata": {},
   "outputs": [
    {
     "name": "stdout",
     "output_type": "stream",
     "text": [
      "9927 9927 1.0\n",
      "9946 9946 1.0\n"
     ]
    }
   ],
   "source": [
    "def eval_split(trainer, split, max_batches):\n",
    "    dataset = {'train':train_dataset, 'test':test_dataset}[split]\n",
    "    loader = DataLoader(dataset, batch_size=100, num_workers=0, drop_last=False)\n",
    "    corrects = torch.tensor([], dtype = torch.bool)\n",
    "    for b, (x, y, z) in enumerate(loader):\n",
    "        # b is just batch number\n",
    "        # z is the boolean mask for the batch\n",
    "        x = x.to(trainer.device)\n",
    "        y = y.to(trainer.device)\n",
    "        # isolate the input pattern alone\n",
    "        inp = x\n",
    "        sol = y\n",
    "        sol_candidate = model.generate_output(inp)\n",
    "        c = (sol[z] == sol_candidate[z]) \n",
    "        corrects = torch.cat([corrects, c])\n",
    "        if max_batches is not None and b+1 >= max_batches:\n",
    "            break\n",
    "    correct = len(corrects[corrects == True])\n",
    "    total = len(corrects)\n",
    "    accuracy = correct/total\n",
    "    print(correct, total, accuracy)\n",
    "    return accuracy\n",
    "\n",
    "# run a lot of examples from both train and test through the model and verify the output correctness\n",
    "with torch.no_grad():\n",
    "    train_score = eval_split(trainer, 'train', max_batches=50)\n",
    "    test_score  = eval_split(trainer, 'test',  max_batches=50)"
   ]
  },
  {
   "cell_type": "code",
   "execution_count": 11,
   "metadata": {},
   "outputs": [
    {
     "name": "stdout",
     "output_type": "stream",
     "text": [
      "input sequence  : [[0, 3, 2, 0, 3, 2, 0, 1, 2, 0]]\n",
      "predicted sequence: [[0, 1, 2, 0, 1, 2, 0, 1, 2, 0]]\n",
      "ground truth      : [0, 1, 2, 0, 1, 2, 0, 1, 2, 0]\n",
      "matches         : True\n"
     ]
    }
   ],
   "source": [
    "# let's run a random given sequence through the model as well\n",
    "inp = torch.tensor([[0, 3, 2, 0, 3, 2, 0, 1, 2, 0]], dtype=torch.long).to(trainer.device)\n",
    "sol = torch.tensor([ 0, 1, 2, 0, 1, 2, 0, 1, 2, 0], dtype=torch.long)\n",
    "with torch.no_grad():\n",
    "    sol_candidate = model.generate_output(inp)\n",
    "print('input sequence  :', inp.tolist())\n",
    "print('predicted sequence:', sol_candidate.tolist())\n",
    "print('ground truth      :', sol.tolist())\n",
    "print('matches         :', bool((sol == sol_candidate).all()))"
   ]
  },
  {
   "cell_type": "code",
   "execution_count": null,
   "metadata": {},
   "outputs": [],
   "source": []
  },
  {
   "cell_type": "code",
   "execution_count": null,
   "metadata": {},
   "outputs": [],
   "source": []
  },
  {
   "cell_type": "code",
   "execution_count": null,
   "metadata": {},
   "outputs": [],
   "source": []
  }
 ],
 "metadata": {
  "kernelspec": {
   "display_name": "Python 3 (ipykernel)",
   "language": "python",
   "name": "python3"
  },
  "language_info": {
   "codemirror_mode": {
    "name": "ipython",
    "version": 3
   },
   "file_extension": ".py",
   "mimetype": "text/x-python",
   "name": "python",
   "nbconvert_exporter": "python",
   "pygments_lexer": "ipython3",
   "version": "3.10.12"
  },
  "vscode": {
   "interpreter": {
    "hash": "3ad933181bd8a04b432d3370b9dc3b0662ad032c4dfaa4e4f1596c548f763858"
   }
  }
 },
 "nbformat": 4,
 "nbformat_minor": 4
}
